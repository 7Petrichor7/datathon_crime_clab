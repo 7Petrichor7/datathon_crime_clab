{
 "cells": [
  {
   "cell_type": "code",
   "execution_count": 1,
   "metadata": {},
   "outputs": [],
   "source": [
    "import numpy as np\n",
    "import pandas as pd"
   ]
  },
  {
   "cell_type": "code",
   "execution_count": 2,
   "metadata": {},
   "outputs": [],
   "source": [
    "df = pd.read_csv(\"SPD_Crime_Data__2008-Present.csv\")"
   ]
  },
  {
   "cell_type": "code",
   "execution_count": 57,
   "metadata": {},
   "outputs": [],
   "source": [
    "pdf = pd.read_csv(\"Seattle_Population_Data.csv\")"
   ]
  },
  {
   "cell_type": "code",
   "execution_count": 58,
   "metadata": {},
   "outputs": [],
   "source": [
    "pdf = pdf.rename(columns={\"label\":\"Year\"})"
   ]
  },
  {
   "cell_type": "code",
   "execution_count": 33,
   "metadata": {},
   "outputs": [
    {
     "name": "stdout",
     "output_type": "stream",
     "text": [
      "<class 'pandas.core.frame.DataFrame'>\n",
      "RangeIndex: 1033415 entries, 0 to 1033414\n",
      "Data columns (total 21 columns):\n",
      " #   Column                  Non-Null Count    Dtype         \n",
      "---  ------                  --------------    -----         \n",
      " 0   Report Number           1033415 non-null  object        \n",
      " 1   Offense ID              1033415 non-null  int64         \n",
      " 2   Offense Start DateTime  1032212 non-null  object        \n",
      " 3   Offense End DateTime    581409 non-null   object        \n",
      " 4   Report DateTime         1033415 non-null  datetime64[ns]\n",
      " 5   Group A B               1033415 non-null  object        \n",
      " 6   City                    1033415 non-null  object        \n",
      " 7   Crime Against Category  1033415 non-null  object        \n",
      " 8   Offense Parent Group    1033415 non-null  object        \n",
      " 9   Offense                 1033415 non-null  object        \n",
      " 10  Offense Code            1033415 non-null  object        \n",
      " 11  Precinct                1033411 non-null  object        \n",
      " 12  Sector                  1033413 non-null  object        \n",
      " 13  Beat                    1033413 non-null  object        \n",
      " 14  MCPP                    1033415 non-null  object        \n",
      " 15  100 Block Address       989588 non-null   object        \n",
      " 16  Longitude               1033415 non-null  float64       \n",
      " 17  Latitude                1033415 non-null  float64       \n",
      " 18  Date                    1033415 non-null  object        \n",
      " 19  Time                    1033415 non-null  object        \n",
      " 20  Year                    1033415 non-null  object        \n",
      "dtypes: datetime64[ns](1), float64(2), int64(1), object(17)\n",
      "memory usage: 165.6+ MB\n"
     ]
    }
   ],
   "source": [
    "df.info()"
   ]
  },
  {
   "cell_type": "code",
   "execution_count": 59,
   "metadata": {},
   "outputs": [],
   "source": [
    "df = df.astype({'Year':'int'})"
   ]
  },
  {
   "cell_type": "code",
   "execution_count": 60,
   "metadata": {},
   "outputs": [],
   "source": [
    "combined_df = pd.merge(df, pdf, on=\"Year\", how='left')"
   ]
  },
  {
   "cell_type": "code",
   "execution_count": 61,
   "metadata": {},
   "outputs": [],
   "source": [
    "combined_df_2018 = combined_df[combined_df['Year'] >= 2018]  \n",
    "# get this out"
   ]
  },
  {
   "cell_type": "code",
   "execution_count": 62,
   "metadata": {},
   "outputs": [],
   "source": [
    "property_data = combined_df_2018[combined_df_2018['Crime Against Category'] == \"PROPERTY\"]"
   ]
  },
  {
   "cell_type": "code",
   "execution_count": 124,
   "metadata": {},
   "outputs": [
    {
     "data": {
      "text/plain": [
       "Crime Against Category  Offense Parent Group                    \n",
       "NOT_A_CRIME             HOMICIDE OFFENSES                            3.0\n",
       "PERSON                  ASSAULT OFFENSES                            32.0\n",
       "                        HOMICIDE OFFENSES                           11.0\n",
       "                        HUMAN TRAFFICKING                            6.0\n",
       "                        KIDNAPPING/ABDUCTION                        16.0\n",
       "                        SEX OFFENSES                                21.0\n",
       "                        SEX OFFENSES, CONSENSUAL                     5.0\n",
       "PROPERTY                ARSON                                       18.0\n",
       "                        BAD CHECKS                                  17.0\n",
       "                        BRIBERY                                      1.0\n",
       "                        BURGLARY/BREAKING&ENTERING                  31.0\n",
       "                        COUNTERFEITING/FORGERY                      20.0\n",
       "                        DESTRUCTION/DAMAGE/VANDALISM OF PROPERTY    30.0\n",
       "                        EMBEZZLEMENT                                13.0\n",
       "                        EXTORTION/BLACKMAIL                         15.0\n",
       "                        FRAUD OFFENSES                              28.0\n",
       "                        LARCENY-THEFT                               33.0\n",
       "                        MOTOR VEHICLE THEFT                         29.0\n",
       "                        ROBBERY                                     26.0\n",
       "                        STOLEN PROPERTY OFFENSES                    22.0\n",
       "SOCIETY                 ANIMAL CRUELTY                               8.0\n",
       "                        CURFEW/LOITERING/VAGRANCY VIOLATIONS         9.0\n",
       "                        DRIVING UNDER THE INFLUENCE                 25.0\n",
       "                        DRUG/NARCOTIC OFFENSES                      24.0\n",
       "                        DRUNKENNESS                                  4.0\n",
       "                        FAMILY OFFENSES, NONVIOLENT                 19.0\n",
       "                        GAMBLING OFFENSES                            2.0\n",
       "                        LIQUOR LAW VIOLATIONS                       10.0\n",
       "                        PEEPING TOM                                  7.0\n",
       "                        PORNOGRAPHY/OBSCENE MATERIAL                12.0\n",
       "                        PROSTITUTION OFFENSES                       14.0\n",
       "                        TRESPASS OF REAL PROPERTY                   27.0\n",
       "                        WEAPON LAW VIOLATIONS                       23.0\n",
       "dtype: float64"
      ]
     },
     "execution_count": 124,
     "metadata": {},
     "output_type": "execute_result"
    }
   ],
   "source": [
    "combined_df_2018.groupby(['Crime Against Category', \"Offense Parent Group\"]).size().rank()"
   ]
  },
  {
   "cell_type": "code",
   "execution_count": 171,
   "metadata": {},
   "outputs": [
    {
     "name": "stderr",
     "output_type": "stream",
     "text": [
      "/var/folders/rv/6m4k5tf17wz_q7w2xygr9xm00000gn/T/ipykernel_35021/2015705043.py:1: SettingWithCopyWarning: \n",
      "A value is trying to be set on a copy of a slice from a DataFrame.\n",
      "Try using .loc[row_indexer,col_indexer] = value instead\n",
      "\n",
      "See the caveats in the documentation: https://pandas.pydata.org/pandas-docs/stable/user_guide/indexing.html#returning-a-view-versus-a-copy\n",
      "  combined_df_2018['month'] = combined_df_2018[\"Report DateTime\"].dt.strftime(\"%Y-%m\")\n"
     ]
    }
   ],
   "source": [
    "combined_df_2018['month'] = combined_df_2018[\"Report DateTime\"].dt.strftime(\"%Y-%m\")"
   ]
  },
  {
   "cell_type": "code",
   "execution_count": 173,
   "metadata": {},
   "outputs": [],
   "source": [
    "# property_data_rate = property_data.groupby([\"Offense Parent Group\", \"Year\", \"total\"]).count()\n",
    "combined_df_2018_rate = combined_df_2018.groupby(['Crime Against Category', \"Offense Parent Group\", \"month\", \"total\"])[\"Offense ID\"].count().reset_index(name=\"parent_count\")"
   ]
  },
  {
   "cell_type": "code",
   "execution_count": 183,
   "metadata": {},
   "outputs": [],
   "source": [
    "combined_df_2018_top5 = combined_df_2018.groupby(['Crime Against Category', \"Offense Parent Group\"])[\"Offense ID\"].count().reset_index(name=\"count\")"
   ]
  },
  {
   "cell_type": "code",
   "execution_count": 174,
   "metadata": {},
   "outputs": [
    {
     "data": {
      "text/html": [
       "<div>\n",
       "<style scoped>\n",
       "    .dataframe tbody tr th:only-of-type {\n",
       "        vertical-align: middle;\n",
       "    }\n",
       "\n",
       "    .dataframe tbody tr th {\n",
       "        vertical-align: top;\n",
       "    }\n",
       "\n",
       "    .dataframe thead th {\n",
       "        text-align: right;\n",
       "    }\n",
       "</style>\n",
       "<table border=\"1\" class=\"dataframe\">\n",
       "  <thead>\n",
       "    <tr style=\"text-align: right;\">\n",
       "      <th></th>\n",
       "      <th>Crime Against Category</th>\n",
       "      <th>Offense Parent Group</th>\n",
       "      <th>month</th>\n",
       "      <th>total</th>\n",
       "      <th>parent_count</th>\n",
       "    </tr>\n",
       "  </thead>\n",
       "  <tbody>\n",
       "    <tr>\n",
       "      <th>0</th>\n",
       "      <td>NOT_A_CRIME</td>\n",
       "      <td>HOMICIDE OFFENSES</td>\n",
       "      <td>2018-03</td>\n",
       "      <td>707161.0</td>\n",
       "      <td>1</td>\n",
       "    </tr>\n",
       "    <tr>\n",
       "      <th>1</th>\n",
       "      <td>NOT_A_CRIME</td>\n",
       "      <td>HOMICIDE OFFENSES</td>\n",
       "      <td>2019-01</td>\n",
       "      <td>722885.0</td>\n",
       "      <td>1</td>\n",
       "    </tr>\n",
       "    <tr>\n",
       "      <th>2</th>\n",
       "      <td>NOT_A_CRIME</td>\n",
       "      <td>HOMICIDE OFFENSES</td>\n",
       "      <td>2019-02</td>\n",
       "      <td>722885.0</td>\n",
       "      <td>1</td>\n",
       "    </tr>\n",
       "    <tr>\n",
       "      <th>3</th>\n",
       "      <td>NOT_A_CRIME</td>\n",
       "      <td>HOMICIDE OFFENSES</td>\n",
       "      <td>2019-05</td>\n",
       "      <td>722885.0</td>\n",
       "      <td>1</td>\n",
       "    </tr>\n",
       "    <tr>\n",
       "      <th>4</th>\n",
       "      <td>NOT_A_CRIME</td>\n",
       "      <td>HOMICIDE OFFENSES</td>\n",
       "      <td>2020-05</td>\n",
       "      <td>739736.0</td>\n",
       "      <td>1</td>\n",
       "    </tr>\n",
       "    <tr>\n",
       "      <th>...</th>\n",
       "      <td>...</td>\n",
       "      <td>...</td>\n",
       "      <td>...</td>\n",
       "      <td>...</td>\n",
       "      <td>...</td>\n",
       "    </tr>\n",
       "    <tr>\n",
       "      <th>1670</th>\n",
       "      <td>SOCIETY</td>\n",
       "      <td>WEAPON LAW VIOLATIONS</td>\n",
       "      <td>2022-10</td>\n",
       "      <td>774458.0</td>\n",
       "      <td>66</td>\n",
       "    </tr>\n",
       "    <tr>\n",
       "      <th>1671</th>\n",
       "      <td>SOCIETY</td>\n",
       "      <td>WEAPON LAW VIOLATIONS</td>\n",
       "      <td>2022-11</td>\n",
       "      <td>774458.0</td>\n",
       "      <td>69</td>\n",
       "    </tr>\n",
       "    <tr>\n",
       "      <th>1672</th>\n",
       "      <td>SOCIETY</td>\n",
       "      <td>WEAPON LAW VIOLATIONS</td>\n",
       "      <td>2022-12</td>\n",
       "      <td>774458.0</td>\n",
       "      <td>50</td>\n",
       "    </tr>\n",
       "    <tr>\n",
       "      <th>1673</th>\n",
       "      <td>SOCIETY</td>\n",
       "      <td>WEAPON LAW VIOLATIONS</td>\n",
       "      <td>2023-01</td>\n",
       "      <td>792425.0</td>\n",
       "      <td>58</td>\n",
       "    </tr>\n",
       "    <tr>\n",
       "      <th>1674</th>\n",
       "      <td>SOCIETY</td>\n",
       "      <td>WEAPON LAW VIOLATIONS</td>\n",
       "      <td>2023-02</td>\n",
       "      <td>792425.0</td>\n",
       "      <td>26</td>\n",
       "    </tr>\n",
       "  </tbody>\n",
       "</table>\n",
       "<p>1675 rows × 5 columns</p>\n",
       "</div>"
      ],
      "text/plain": [
       "     Crime Against Category   Offense Parent Group    month     total  \\\n",
       "0               NOT_A_CRIME      HOMICIDE OFFENSES  2018-03  707161.0   \n",
       "1               NOT_A_CRIME      HOMICIDE OFFENSES  2019-01  722885.0   \n",
       "2               NOT_A_CRIME      HOMICIDE OFFENSES  2019-02  722885.0   \n",
       "3               NOT_A_CRIME      HOMICIDE OFFENSES  2019-05  722885.0   \n",
       "4               NOT_A_CRIME      HOMICIDE OFFENSES  2020-05  739736.0   \n",
       "...                     ...                    ...      ...       ...   \n",
       "1670                SOCIETY  WEAPON LAW VIOLATIONS  2022-10  774458.0   \n",
       "1671                SOCIETY  WEAPON LAW VIOLATIONS  2022-11  774458.0   \n",
       "1672                SOCIETY  WEAPON LAW VIOLATIONS  2022-12  774458.0   \n",
       "1673                SOCIETY  WEAPON LAW VIOLATIONS  2023-01  792425.0   \n",
       "1674                SOCIETY  WEAPON LAW VIOLATIONS  2023-02  792425.0   \n",
       "\n",
       "      parent_count  \n",
       "0                1  \n",
       "1                1  \n",
       "2                1  \n",
       "3                1  \n",
       "4                1  \n",
       "...            ...  \n",
       "1670            66  \n",
       "1671            69  \n",
       "1672            50  \n",
       "1673            58  \n",
       "1674            26  \n",
       "\n",
       "[1675 rows x 5 columns]"
      ]
     },
     "execution_count": 174,
     "metadata": {},
     "output_type": "execute_result"
    }
   ],
   "source": [
    "combined_df_2018_rate"
   ]
  },
  {
   "cell_type": "code",
   "execution_count": 184,
   "metadata": {},
   "outputs": [
    {
     "data": {
      "text/html": [
       "<div>\n",
       "<style scoped>\n",
       "    .dataframe tbody tr th:only-of-type {\n",
       "        vertical-align: middle;\n",
       "    }\n",
       "\n",
       "    .dataframe tbody tr th {\n",
       "        vertical-align: top;\n",
       "    }\n",
       "\n",
       "    .dataframe thead th {\n",
       "        text-align: right;\n",
       "    }\n",
       "</style>\n",
       "<table border=\"1\" class=\"dataframe\">\n",
       "  <thead>\n",
       "    <tr style=\"text-align: right;\">\n",
       "      <th></th>\n",
       "      <th>Crime Against Category</th>\n",
       "      <th>Offense Parent Group</th>\n",
       "      <th>count</th>\n",
       "    </tr>\n",
       "  </thead>\n",
       "  <tbody>\n",
       "    <tr>\n",
       "      <th>16</th>\n",
       "      <td>PROPERTY</td>\n",
       "      <td>LARCENY-THEFT</td>\n",
       "      <td>135311</td>\n",
       "    </tr>\n",
       "    <tr>\n",
       "      <th>1</th>\n",
       "      <td>PERSON</td>\n",
       "      <td>ASSAULT OFFENSES</td>\n",
       "      <td>56619</td>\n",
       "    </tr>\n",
       "    <tr>\n",
       "      <th>10</th>\n",
       "      <td>PROPERTY</td>\n",
       "      <td>BURGLARY/BREAKING&amp;ENTERING</td>\n",
       "      <td>45879</td>\n",
       "    </tr>\n",
       "    <tr>\n",
       "      <th>12</th>\n",
       "      <td>PROPERTY</td>\n",
       "      <td>DESTRUCTION/DAMAGE/VANDALISM OF PROPERTY</td>\n",
       "      <td>34573</td>\n",
       "    </tr>\n",
       "    <tr>\n",
       "      <th>17</th>\n",
       "      <td>PROPERTY</td>\n",
       "      <td>MOTOR VEHICLE THEFT</td>\n",
       "      <td>26218</td>\n",
       "    </tr>\n",
       "  </tbody>\n",
       "</table>\n",
       "</div>"
      ],
      "text/plain": [
       "   Crime Against Category                      Offense Parent Group   count\n",
       "16               PROPERTY                             LARCENY-THEFT  135311\n",
       "1                  PERSON                          ASSAULT OFFENSES   56619\n",
       "10               PROPERTY                BURGLARY/BREAKING&ENTERING   45879\n",
       "12               PROPERTY  DESTRUCTION/DAMAGE/VANDALISM OF PROPERTY   34573\n",
       "17               PROPERTY                       MOTOR VEHICLE THEFT   26218"
      ]
     },
     "execution_count": 184,
     "metadata": {},
     "output_type": "execute_result"
    }
   ],
   "source": [
    "combined_df_2018_top5.nlargest(5,'count')"
   ]
  },
  {
   "cell_type": "code",
   "execution_count": 216,
   "metadata": {},
   "outputs": [],
   "source": [
    "motor_df.to_csv(\"motor.csv\", sep='\\t')"
   ]
  },
  {
   "cell_type": "code",
   "execution_count": 213,
   "metadata": {},
   "outputs": [],
   "source": [
    "theft_df = theft_df.groupby([\"Offense Parent Group\",\"month\",\"crime_rate\"]).size().reset_index(name='parent_count')"
   ]
  },
  {
   "cell_type": "code",
   "execution_count": 197,
   "metadata": {},
   "outputs": [],
   "source": [
    "motor_df = combined_df_2018_final[combined_df_2018_final['Offense Parent Group']== \"MOTOR VEHICLE THEFT\"]"
   ]
  },
  {
   "cell_type": "code",
   "execution_count": 215,
   "metadata": {},
   "outputs": [
    {
     "data": {
      "text/html": [
       "<div>\n",
       "<style scoped>\n",
       "    .dataframe tbody tr th:only-of-type {\n",
       "        vertical-align: middle;\n",
       "    }\n",
       "\n",
       "    .dataframe tbody tr th {\n",
       "        vertical-align: top;\n",
       "    }\n",
       "\n",
       "    .dataframe thead th {\n",
       "        text-align: right;\n",
       "    }\n",
       "</style>\n",
       "<table border=\"1\" class=\"dataframe\">\n",
       "  <thead>\n",
       "    <tr style=\"text-align: right;\">\n",
       "      <th></th>\n",
       "      <th>Offense Parent Group</th>\n",
       "      <th>month</th>\n",
       "      <th>crime_rate</th>\n",
       "      <th>parent_count</th>\n",
       "    </tr>\n",
       "  </thead>\n",
       "  <tbody>\n",
       "    <tr>\n",
       "      <th>0</th>\n",
       "      <td>MOTOR VEHICLE THEFT</td>\n",
       "      <td>2018-01</td>\n",
       "      <td>45.96</td>\n",
       "      <td>325</td>\n",
       "    </tr>\n",
       "    <tr>\n",
       "      <th>1</th>\n",
       "      <td>MOTOR VEHICLE THEFT</td>\n",
       "      <td>2018-02</td>\n",
       "      <td>42.71</td>\n",
       "      <td>302</td>\n",
       "    </tr>\n",
       "    <tr>\n",
       "      <th>2</th>\n",
       "      <td>MOTOR VEHICLE THEFT</td>\n",
       "      <td>2018-03</td>\n",
       "      <td>49.78</td>\n",
       "      <td>352</td>\n",
       "    </tr>\n",
       "    <tr>\n",
       "      <th>3</th>\n",
       "      <td>MOTOR VEHICLE THEFT</td>\n",
       "      <td>2018-04</td>\n",
       "      <td>48.65</td>\n",
       "      <td>344</td>\n",
       "    </tr>\n",
       "    <tr>\n",
       "      <th>4</th>\n",
       "      <td>MOTOR VEHICLE THEFT</td>\n",
       "      <td>2018-05</td>\n",
       "      <td>43.27</td>\n",
       "      <td>306</td>\n",
       "    </tr>\n",
       "    <tr>\n",
       "      <th>...</th>\n",
       "      <td>...</td>\n",
       "      <td>...</td>\n",
       "      <td>...</td>\n",
       "      <td>...</td>\n",
       "    </tr>\n",
       "    <tr>\n",
       "      <th>57</th>\n",
       "      <td>MOTOR VEHICLE THEFT</td>\n",
       "      <td>2022-10</td>\n",
       "      <td>90.90</td>\n",
       "      <td>704</td>\n",
       "    </tr>\n",
       "    <tr>\n",
       "      <th>58</th>\n",
       "      <td>MOTOR VEHICLE THEFT</td>\n",
       "      <td>2022-11</td>\n",
       "      <td>86.51</td>\n",
       "      <td>670</td>\n",
       "    </tr>\n",
       "    <tr>\n",
       "      <th>59</th>\n",
       "      <td>MOTOR VEHICLE THEFT</td>\n",
       "      <td>2022-12</td>\n",
       "      <td>82.90</td>\n",
       "      <td>642</td>\n",
       "    </tr>\n",
       "    <tr>\n",
       "      <th>60</th>\n",
       "      <td>MOTOR VEHICLE THEFT</td>\n",
       "      <td>2023-01</td>\n",
       "      <td>81.77</td>\n",
       "      <td>648</td>\n",
       "    </tr>\n",
       "    <tr>\n",
       "      <th>61</th>\n",
       "      <td>MOTOR VEHICLE THEFT</td>\n",
       "      <td>2023-02</td>\n",
       "      <td>36.72</td>\n",
       "      <td>291</td>\n",
       "    </tr>\n",
       "  </tbody>\n",
       "</table>\n",
       "<p>62 rows × 4 columns</p>\n",
       "</div>"
      ],
      "text/plain": [
       "   Offense Parent Group    month  crime_rate  parent_count\n",
       "0   MOTOR VEHICLE THEFT  2018-01       45.96           325\n",
       "1   MOTOR VEHICLE THEFT  2018-02       42.71           302\n",
       "2   MOTOR VEHICLE THEFT  2018-03       49.78           352\n",
       "3   MOTOR VEHICLE THEFT  2018-04       48.65           344\n",
       "4   MOTOR VEHICLE THEFT  2018-05       43.27           306\n",
       "..                  ...      ...         ...           ...\n",
       "57  MOTOR VEHICLE THEFT  2022-10       90.90           704\n",
       "58  MOTOR VEHICLE THEFT  2022-11       86.51           670\n",
       "59  MOTOR VEHICLE THEFT  2022-12       82.90           642\n",
       "60  MOTOR VEHICLE THEFT  2023-01       81.77           648\n",
       "61  MOTOR VEHICLE THEFT  2023-02       36.72           291\n",
       "\n",
       "[62 rows x 4 columns]"
      ]
     },
     "execution_count": 215,
     "metadata": {},
     "output_type": "execute_result"
    }
   ],
   "source": [
    "motor_df"
   ]
  },
  {
   "cell_type": "code",
   "execution_count": 195,
   "metadata": {},
   "outputs": [],
   "source": [
    "property_df = combined_df_2018_final[combined_df_2018_final['Offense Parent Group']== \"DESTRUCTION/DAMAGE/VANDALISM OF PROPERTY\"]"
   ]
  },
  {
   "cell_type": "code",
   "execution_count": 185,
   "metadata": {},
   "outputs": [],
   "source": [
    "theft_df = combined_df_2018_final[combined_df_2018_final['Offense Parent Group']== \"LARCENY-THEFT\"]\n",
    "#extract"
   ]
  },
  {
   "cell_type": "code",
   "execution_count": 193,
   "metadata": {},
   "outputs": [],
   "source": [
    "burglary_df = combined_df_2018_final[combined_df_2018_final['Offense Parent Group']== \"BURGLARY/BREAKING&ENTERING\"]"
   ]
  },
  {
   "cell_type": "code",
   "execution_count": 189,
   "metadata": {},
   "outputs": [],
   "source": [
    "assault_df = combined_df_2018_final[combined_df_2018_final['Offense Parent Group']== \"ASSAULT OFFENSES\"]"
   ]
  },
  {
   "cell_type": "code",
   "execution_count": 191,
   "metadata": {},
   "outputs": [
    {
     "data": {
      "text/html": [
       "<div>\n",
       "<style scoped>\n",
       "    .dataframe tbody tr th:only-of-type {\n",
       "        vertical-align: middle;\n",
       "    }\n",
       "\n",
       "    .dataframe tbody tr th {\n",
       "        vertical-align: top;\n",
       "    }\n",
       "\n",
       "    .dataframe thead th {\n",
       "        text-align: right;\n",
       "    }\n",
       "</style>\n",
       "<table border=\"1\" class=\"dataframe\">\n",
       "  <thead>\n",
       "    <tr style=\"text-align: right;\">\n",
       "      <th></th>\n",
       "      <th>Report Number</th>\n",
       "      <th>Offense ID</th>\n",
       "      <th>Offense Start DateTime</th>\n",
       "      <th>Offense End DateTime</th>\n",
       "      <th>Report DateTime</th>\n",
       "      <th>Group A B</th>\n",
       "      <th>City</th>\n",
       "      <th>Crime Against Category</th>\n",
       "      <th>Offense Parent Group</th>\n",
       "      <th>Offense</th>\n",
       "      <th>...</th>\n",
       "      <th>Year</th>\n",
       "      <th>Born in USA</th>\n",
       "      <th>Citizen by Naturalization</th>\n",
       "      <th>Not a Citizen</th>\n",
       "      <th>Born Abroad</th>\n",
       "      <th>total_x</th>\n",
       "      <th>month</th>\n",
       "      <th>total_y</th>\n",
       "      <th>parent_count</th>\n",
       "      <th>crime_rate</th>\n",
       "    </tr>\n",
       "  </thead>\n",
       "  <tbody>\n",
       "  </tbody>\n",
       "</table>\n",
       "<p>0 rows × 30 columns</p>\n",
       "</div>"
      ],
      "text/plain": [
       "Empty DataFrame\n",
       "Columns: [Report Number, Offense ID, Offense Start DateTime, Offense End DateTime, Report DateTime, Group A B, City, Crime Against Category, Offense Parent Group, Offense, Offense Code, Precinct, Sector, Beat, MCPP, 100 Block Address, Longitude, Latitude, Date, Time, Year, Born in USA, Citizen by Naturalization, Not a Citizen, Born Abroad, total_x, month, total_y, parent_count, crime_rate]\n",
       "Index: []\n",
       "\n",
       "[0 rows x 30 columns]"
      ]
     },
     "execution_count": 191,
     "metadata": {},
     "output_type": "execute_result"
    }
   ],
   "source": [
    "assault_df[assault_df['Crime Against Category']!= \"PERSON\"]"
   ]
  },
  {
   "cell_type": "code",
   "execution_count": 163,
   "metadata": {},
   "outputs": [],
   "source": [
    "motor_df.to_csv(\"motor.csv\")"
   ]
  },
  {
   "cell_type": "code",
   "execution_count": 175,
   "metadata": {},
   "outputs": [],
   "source": [
    "combined_df_2018_rate[\"crime_rate\"] = ((combined_df_2018_rate[\"parent_count\"]/combined_df_2018_rate[\"total\"])*100000)"
   ]
  },
  {
   "cell_type": "code",
   "execution_count": 176,
   "metadata": {},
   "outputs": [],
   "source": [
    "combined_df_2018_rate = combined_df_2018_rate.round(decimals=2)"
   ]
  },
  {
   "cell_type": "code",
   "execution_count": 178,
   "metadata": {},
   "outputs": [
    {
     "data": {
      "text/html": [
       "<div>\n",
       "<style scoped>\n",
       "    .dataframe tbody tr th:only-of-type {\n",
       "        vertical-align: middle;\n",
       "    }\n",
       "\n",
       "    .dataframe tbody tr th {\n",
       "        vertical-align: top;\n",
       "    }\n",
       "\n",
       "    .dataframe thead th {\n",
       "        text-align: right;\n",
       "    }\n",
       "</style>\n",
       "<table border=\"1\" class=\"dataframe\">\n",
       "  <thead>\n",
       "    <tr style=\"text-align: right;\">\n",
       "      <th></th>\n",
       "      <th>Report Number</th>\n",
       "      <th>Offense ID</th>\n",
       "      <th>Offense Start DateTime</th>\n",
       "      <th>Offense End DateTime</th>\n",
       "      <th>Report DateTime</th>\n",
       "      <th>Group A B</th>\n",
       "      <th>City</th>\n",
       "      <th>Crime Against Category</th>\n",
       "      <th>Offense Parent Group</th>\n",
       "      <th>Offense</th>\n",
       "      <th>...</th>\n",
       "      <th>Latitude</th>\n",
       "      <th>Date</th>\n",
       "      <th>Time</th>\n",
       "      <th>Year</th>\n",
       "      <th>Born in USA</th>\n",
       "      <th>Citizen by Naturalization</th>\n",
       "      <th>Not a Citizen</th>\n",
       "      <th>Born Abroad</th>\n",
       "      <th>total</th>\n",
       "      <th>month</th>\n",
       "    </tr>\n",
       "  </thead>\n",
       "  <tbody>\n",
       "    <tr>\n",
       "      <th>0</th>\n",
       "      <td>2020-044620</td>\n",
       "      <td>12605873663</td>\n",
       "      <td>02/05/2020 10:10:00 AM</td>\n",
       "      <td>NaN</td>\n",
       "      <td>2020-02-05 11:24:31</td>\n",
       "      <td>A</td>\n",
       "      <td>Seattle</td>\n",
       "      <td>SOCIETY</td>\n",
       "      <td>DRUG/NARCOTIC OFFENSES</td>\n",
       "      <td>Drug/Narcotic Violations</td>\n",
       "      <td>...</td>\n",
       "      <td>47.649387</td>\n",
       "      <td>2020-02-05</td>\n",
       "      <td>11:24:31</td>\n",
       "      <td>2020</td>\n",
       "      <td>583416.0</td>\n",
       "      <td>67774.0</td>\n",
       "      <td>75913.0</td>\n",
       "      <td>12633.0</td>\n",
       "      <td>739736.0</td>\n",
       "      <td>2020-02</td>\n",
       "    </tr>\n",
       "    <tr>\n",
       "      <th>1</th>\n",
       "      <td>2020-044452</td>\n",
       "      <td>12605598696</td>\n",
       "      <td>02/03/2020 08:00:00 AM</td>\n",
       "      <td>02/04/2020 08:00:00 AM</td>\n",
       "      <td>2020-02-05 10:06:28</td>\n",
       "      <td>A</td>\n",
       "      <td>Seattle</td>\n",
       "      <td>PROPERTY</td>\n",
       "      <td>LARCENY-THEFT</td>\n",
       "      <td>Theft of Motor Vehicle Parts or Accessories</td>\n",
       "      <td>...</td>\n",
       "      <td>47.675118</td>\n",
       "      <td>2020-02-05</td>\n",
       "      <td>10:06:28</td>\n",
       "      <td>2020</td>\n",
       "      <td>583416.0</td>\n",
       "      <td>67774.0</td>\n",
       "      <td>75913.0</td>\n",
       "      <td>12633.0</td>\n",
       "      <td>739736.0</td>\n",
       "      <td>2020-02</td>\n",
       "    </tr>\n",
       "    <tr>\n",
       "      <th>2</th>\n",
       "      <td>2020-044465</td>\n",
       "      <td>12605567653</td>\n",
       "      <td>02/02/2020 08:30:00 PM</td>\n",
       "      <td>02/02/2020 09:30:00 PM</td>\n",
       "      <td>2020-02-05 09:39:33</td>\n",
       "      <td>A</td>\n",
       "      <td>Seattle</td>\n",
       "      <td>PROPERTY</td>\n",
       "      <td>ROBBERY</td>\n",
       "      <td>Robbery</td>\n",
       "      <td>...</td>\n",
       "      <td>47.666384</td>\n",
       "      <td>2020-02-05</td>\n",
       "      <td>09:39:33</td>\n",
       "      <td>2020</td>\n",
       "      <td>583416.0</td>\n",
       "      <td>67774.0</td>\n",
       "      <td>75913.0</td>\n",
       "      <td>12633.0</td>\n",
       "      <td>739736.0</td>\n",
       "      <td>2020-02</td>\n",
       "    </tr>\n",
       "    <tr>\n",
       "      <th>3</th>\n",
       "      <td>2020-044225</td>\n",
       "      <td>12605174036</td>\n",
       "      <td>02/05/2020 01:17:00 AM</td>\n",
       "      <td>02/05/2020 02:21:00 AM</td>\n",
       "      <td>2020-02-05 03:30:55</td>\n",
       "      <td>A</td>\n",
       "      <td>Seattle</td>\n",
       "      <td>PROPERTY</td>\n",
       "      <td>DESTRUCTION/DAMAGE/VANDALISM OF PROPERTY</td>\n",
       "      <td>Destruction/Damage/Vandalism of Property</td>\n",
       "      <td>...</td>\n",
       "      <td>47.642927</td>\n",
       "      <td>2020-02-05</td>\n",
       "      <td>03:30:55</td>\n",
       "      <td>2020</td>\n",
       "      <td>583416.0</td>\n",
       "      <td>67774.0</td>\n",
       "      <td>75913.0</td>\n",
       "      <td>12633.0</td>\n",
       "      <td>739736.0</td>\n",
       "      <td>2020-02</td>\n",
       "    </tr>\n",
       "    <tr>\n",
       "      <th>4</th>\n",
       "      <td>2020-044076</td>\n",
       "      <td>12605081469</td>\n",
       "      <td>02/05/2020 12:51:21 AM</td>\n",
       "      <td>NaN</td>\n",
       "      <td>2020-02-05 00:51:31</td>\n",
       "      <td>B</td>\n",
       "      <td>Seattle</td>\n",
       "      <td>SOCIETY</td>\n",
       "      <td>DRIVING UNDER THE INFLUENCE</td>\n",
       "      <td>Driving Under the Influence</td>\n",
       "      <td>...</td>\n",
       "      <td>47.662193</td>\n",
       "      <td>2020-02-05</td>\n",
       "      <td>00:51:31</td>\n",
       "      <td>2020</td>\n",
       "      <td>583416.0</td>\n",
       "      <td>67774.0</td>\n",
       "      <td>75913.0</td>\n",
       "      <td>12633.0</td>\n",
       "      <td>739736.0</td>\n",
       "      <td>2020-02</td>\n",
       "    </tr>\n",
       "    <tr>\n",
       "      <th>...</th>\n",
       "      <td>...</td>\n",
       "      <td>...</td>\n",
       "      <td>...</td>\n",
       "      <td>...</td>\n",
       "      <td>...</td>\n",
       "      <td>...</td>\n",
       "      <td>...</td>\n",
       "      <td>...</td>\n",
       "      <td>...</td>\n",
       "      <td>...</td>\n",
       "      <td>...</td>\n",
       "      <td>...</td>\n",
       "      <td>...</td>\n",
       "      <td>...</td>\n",
       "      <td>...</td>\n",
       "      <td>...</td>\n",
       "      <td>...</td>\n",
       "      <td>...</td>\n",
       "      <td>...</td>\n",
       "      <td>...</td>\n",
       "      <td>...</td>\n",
       "    </tr>\n",
       "    <tr>\n",
       "      <th>1033391</th>\n",
       "      <td>2018-041786</td>\n",
       "      <td>7659514059</td>\n",
       "      <td>02/03/2018 10:00:00 AM</td>\n",
       "      <td>02/03/2018 11:15:00 AM</td>\n",
       "      <td>2018-02-03 13:26:00</td>\n",
       "      <td>A</td>\n",
       "      <td>Seattle</td>\n",
       "      <td>PROPERTY</td>\n",
       "      <td>LARCENY-THEFT</td>\n",
       "      <td>Theft From Motor Vehicle</td>\n",
       "      <td>...</td>\n",
       "      <td>47.540130</td>\n",
       "      <td>2018-02-03</td>\n",
       "      <td>13:26:00</td>\n",
       "      <td>2018</td>\n",
       "      <td>563960.0</td>\n",
       "      <td>64716.0</td>\n",
       "      <td>66138.0</td>\n",
       "      <td>12347.0</td>\n",
       "      <td>707161.0</td>\n",
       "      <td>2018-02</td>\n",
       "    </tr>\n",
       "    <tr>\n",
       "      <th>1033392</th>\n",
       "      <td>2018-040735</td>\n",
       "      <td>7685319198</td>\n",
       "      <td>02/02/2018 09:30:00 AM</td>\n",
       "      <td>02/02/2018 05:30:00 PM</td>\n",
       "      <td>2018-02-02 20:38:00</td>\n",
       "      <td>A</td>\n",
       "      <td>Seattle</td>\n",
       "      <td>PROPERTY</td>\n",
       "      <td>LARCENY-THEFT</td>\n",
       "      <td>Theft From Motor Vehicle</td>\n",
       "      <td>...</td>\n",
       "      <td>47.623217</td>\n",
       "      <td>2018-02-02</td>\n",
       "      <td>20:38:00</td>\n",
       "      <td>2018</td>\n",
       "      <td>563960.0</td>\n",
       "      <td>64716.0</td>\n",
       "      <td>66138.0</td>\n",
       "      <td>12347.0</td>\n",
       "      <td>707161.0</td>\n",
       "      <td>2018-02</td>\n",
       "    </tr>\n",
       "    <tr>\n",
       "      <th>1033393</th>\n",
       "      <td>2018-039974</td>\n",
       "      <td>7696866294</td>\n",
       "      <td>02/01/2018 07:00:00 PM</td>\n",
       "      <td>02/02/2018 05:45:00 AM</td>\n",
       "      <td>2018-02-02 07:52:00</td>\n",
       "      <td>A</td>\n",
       "      <td>Seattle</td>\n",
       "      <td>PROPERTY</td>\n",
       "      <td>LARCENY-THEFT</td>\n",
       "      <td>Theft From Motor Vehicle</td>\n",
       "      <td>...</td>\n",
       "      <td>47.581890</td>\n",
       "      <td>2018-02-02</td>\n",
       "      <td>07:52:00</td>\n",
       "      <td>2018</td>\n",
       "      <td>563960.0</td>\n",
       "      <td>64716.0</td>\n",
       "      <td>66138.0</td>\n",
       "      <td>12347.0</td>\n",
       "      <td>707161.0</td>\n",
       "      <td>2018-02</td>\n",
       "    </tr>\n",
       "    <tr>\n",
       "      <th>1033394</th>\n",
       "      <td>2018-039974</td>\n",
       "      <td>7696866297</td>\n",
       "      <td>02/01/2018 07:00:00 PM</td>\n",
       "      <td>02/02/2018 05:45:00 AM</td>\n",
       "      <td>2018-02-02 07:52:00</td>\n",
       "      <td>A</td>\n",
       "      <td>Seattle</td>\n",
       "      <td>PROPERTY</td>\n",
       "      <td>DESTRUCTION/DAMAGE/VANDALISM OF PROPERTY</td>\n",
       "      <td>Destruction/Damage/Vandalism of Property</td>\n",
       "      <td>...</td>\n",
       "      <td>47.581890</td>\n",
       "      <td>2018-02-02</td>\n",
       "      <td>07:52:00</td>\n",
       "      <td>2018</td>\n",
       "      <td>563960.0</td>\n",
       "      <td>64716.0</td>\n",
       "      <td>66138.0</td>\n",
       "      <td>12347.0</td>\n",
       "      <td>707161.0</td>\n",
       "      <td>2018-02</td>\n",
       "    </tr>\n",
       "    <tr>\n",
       "      <th>1033395</th>\n",
       "      <td>2018-039677</td>\n",
       "      <td>7643159251</td>\n",
       "      <td>02/01/2018 09:30:00 AM</td>\n",
       "      <td>02/01/2018 10:30:00 PM</td>\n",
       "      <td>2018-02-01 22:55:00</td>\n",
       "      <td>A</td>\n",
       "      <td>Seattle</td>\n",
       "      <td>PROPERTY</td>\n",
       "      <td>BURGLARY/BREAKING&amp;ENTERING</td>\n",
       "      <td>Burglary/Breaking &amp; Entering</td>\n",
       "      <td>...</td>\n",
       "      <td>47.727507</td>\n",
       "      <td>2018-02-01</td>\n",
       "      <td>22:55:00</td>\n",
       "      <td>2018</td>\n",
       "      <td>563960.0</td>\n",
       "      <td>64716.0</td>\n",
       "      <td>66138.0</td>\n",
       "      <td>12347.0</td>\n",
       "      <td>707161.0</td>\n",
       "      <td>2018-02</td>\n",
       "    </tr>\n",
       "  </tbody>\n",
       "</table>\n",
       "<p>377672 rows × 27 columns</p>\n",
       "</div>"
      ],
      "text/plain": [
       "        Report Number   Offense ID  Offense Start DateTime  \\\n",
       "0         2020-044620  12605873663  02/05/2020 10:10:00 AM   \n",
       "1         2020-044452  12605598696  02/03/2020 08:00:00 AM   \n",
       "2         2020-044465  12605567653  02/02/2020 08:30:00 PM   \n",
       "3         2020-044225  12605174036  02/05/2020 01:17:00 AM   \n",
       "4         2020-044076  12605081469  02/05/2020 12:51:21 AM   \n",
       "...               ...          ...                     ...   \n",
       "1033391   2018-041786   7659514059  02/03/2018 10:00:00 AM   \n",
       "1033392   2018-040735   7685319198  02/02/2018 09:30:00 AM   \n",
       "1033393   2018-039974   7696866294  02/01/2018 07:00:00 PM   \n",
       "1033394   2018-039974   7696866297  02/01/2018 07:00:00 PM   \n",
       "1033395   2018-039677   7643159251  02/01/2018 09:30:00 AM   \n",
       "\n",
       "           Offense End DateTime     Report DateTime Group A B     City  \\\n",
       "0                           NaN 2020-02-05 11:24:31         A  Seattle   \n",
       "1        02/04/2020 08:00:00 AM 2020-02-05 10:06:28         A  Seattle   \n",
       "2        02/02/2020 09:30:00 PM 2020-02-05 09:39:33         A  Seattle   \n",
       "3        02/05/2020 02:21:00 AM 2020-02-05 03:30:55         A  Seattle   \n",
       "4                           NaN 2020-02-05 00:51:31         B  Seattle   \n",
       "...                         ...                 ...       ...      ...   \n",
       "1033391  02/03/2018 11:15:00 AM 2018-02-03 13:26:00         A  Seattle   \n",
       "1033392  02/02/2018 05:30:00 PM 2018-02-02 20:38:00         A  Seattle   \n",
       "1033393  02/02/2018 05:45:00 AM 2018-02-02 07:52:00         A  Seattle   \n",
       "1033394  02/02/2018 05:45:00 AM 2018-02-02 07:52:00         A  Seattle   \n",
       "1033395  02/01/2018 10:30:00 PM 2018-02-01 22:55:00         A  Seattle   \n",
       "\n",
       "        Crime Against Category                      Offense Parent Group  \\\n",
       "0                      SOCIETY                    DRUG/NARCOTIC OFFENSES   \n",
       "1                     PROPERTY                             LARCENY-THEFT   \n",
       "2                     PROPERTY                                   ROBBERY   \n",
       "3                     PROPERTY  DESTRUCTION/DAMAGE/VANDALISM OF PROPERTY   \n",
       "4                      SOCIETY               DRIVING UNDER THE INFLUENCE   \n",
       "...                        ...                                       ...   \n",
       "1033391               PROPERTY                             LARCENY-THEFT   \n",
       "1033392               PROPERTY                             LARCENY-THEFT   \n",
       "1033393               PROPERTY                             LARCENY-THEFT   \n",
       "1033394               PROPERTY  DESTRUCTION/DAMAGE/VANDALISM OF PROPERTY   \n",
       "1033395               PROPERTY                BURGLARY/BREAKING&ENTERING   \n",
       "\n",
       "                                             Offense  ...   Latitude  \\\n",
       "0                           Drug/Narcotic Violations  ...  47.649387   \n",
       "1        Theft of Motor Vehicle Parts or Accessories  ...  47.675118   \n",
       "2                                            Robbery  ...  47.666384   \n",
       "3           Destruction/Damage/Vandalism of Property  ...  47.642927   \n",
       "4                        Driving Under the Influence  ...  47.662193   \n",
       "...                                              ...  ...        ...   \n",
       "1033391                     Theft From Motor Vehicle  ...  47.540130   \n",
       "1033392                     Theft From Motor Vehicle  ...  47.623217   \n",
       "1033393                     Theft From Motor Vehicle  ...  47.581890   \n",
       "1033394     Destruction/Damage/Vandalism of Property  ...  47.581890   \n",
       "1033395                 Burglary/Breaking & Entering  ...  47.727507   \n",
       "\n",
       "               Date      Time  Year Born in USA Citizen by Naturalization  \\\n",
       "0        2020-02-05  11:24:31  2020    583416.0                   67774.0   \n",
       "1        2020-02-05  10:06:28  2020    583416.0                   67774.0   \n",
       "2        2020-02-05  09:39:33  2020    583416.0                   67774.0   \n",
       "3        2020-02-05  03:30:55  2020    583416.0                   67774.0   \n",
       "4        2020-02-05  00:51:31  2020    583416.0                   67774.0   \n",
       "...             ...       ...   ...         ...                       ...   \n",
       "1033391  2018-02-03  13:26:00  2018    563960.0                   64716.0   \n",
       "1033392  2018-02-02  20:38:00  2018    563960.0                   64716.0   \n",
       "1033393  2018-02-02  07:52:00  2018    563960.0                   64716.0   \n",
       "1033394  2018-02-02  07:52:00  2018    563960.0                   64716.0   \n",
       "1033395  2018-02-01  22:55:00  2018    563960.0                   64716.0   \n",
       "\n",
       "         Not a Citizen  Born Abroad     total    month  \n",
       "0              75913.0      12633.0  739736.0  2020-02  \n",
       "1              75913.0      12633.0  739736.0  2020-02  \n",
       "2              75913.0      12633.0  739736.0  2020-02  \n",
       "3              75913.0      12633.0  739736.0  2020-02  \n",
       "4              75913.0      12633.0  739736.0  2020-02  \n",
       "...                ...          ...       ...      ...  \n",
       "1033391        66138.0      12347.0  707161.0  2018-02  \n",
       "1033392        66138.0      12347.0  707161.0  2018-02  \n",
       "1033393        66138.0      12347.0  707161.0  2018-02  \n",
       "1033394        66138.0      12347.0  707161.0  2018-02  \n",
       "1033395        66138.0      12347.0  707161.0  2018-02  \n",
       "\n",
       "[377672 rows x 27 columns]"
      ]
     },
     "execution_count": 178,
     "metadata": {},
     "output_type": "execute_result"
    }
   ],
   "source": [
    "combined_df_2018"
   ]
  },
  {
   "cell_type": "code",
   "execution_count": 179,
   "metadata": {},
   "outputs": [],
   "source": [
    "combined_df_2018_final = pd.merge(combined_df_2018, combined_df_2018_rate, on=['Crime Against Category', \"Offense Parent Group\", \"month\"], how='left')"
   ]
  },
  {
   "cell_type": "code",
   "execution_count": 217,
   "metadata": {},
   "outputs": [],
   "source": [
    "compression_opts = dict(method='zip',\n",
    "                        archive_name='SPD_Crime_Data__2008-Present.csv')  \n",
    "combined_df_2018_final.to_csv('rate_data.zip', index=False,\n",
    "          compression=compression_opts) "
   ]
  },
  {
   "cell_type": "code",
   "execution_count": 122,
   "metadata": {},
   "outputs": [
    {
     "data": {
      "text/plain": [
       "0.13"
      ]
     },
     "execution_count": 122,
     "metadata": {},
     "output_type": "execute_result"
    }
   ],
   "source": [
    "min(combined_df_2018_final.crime_rate)"
   ]
  },
  {
   "cell_type": "code",
   "execution_count": 69,
   "metadata": {},
   "outputs": [],
   "source": [
    "offense_types = property_data[\"Offense Parent Group\"].unique()"
   ]
  },
  {
   "cell_type": "code",
   "execution_count": 73,
   "metadata": {},
   "outputs": [
    {
     "data": {
      "text/plain": [
       "'LARCENY-THEFT'"
      ]
     },
     "execution_count": 73,
     "metadata": {},
     "output_type": "execute_result"
    }
   ],
   "source": [
    "offense_types[0]"
   ]
  },
  {
   "cell_type": "code",
   "execution_count": 74,
   "metadata": {},
   "outputs": [],
   "source": [
    "theft_df = property_data[property_data[\"Offense Parent Group\"] == offense_types[0]]"
   ]
  },
  {
   "cell_type": "code",
   "execution_count": 78,
   "metadata": {},
   "outputs": [
    {
     "data": {
      "text/plain": [
       "Date        Offense Parent Group\n",
       "2018-01-01  LARCENY-THEFT            48\n",
       "2018-01-02  LARCENY-THEFT            80\n",
       "2018-01-03  LARCENY-THEFT            82\n",
       "2018-01-04  LARCENY-THEFT            77\n",
       "2018-01-05  LARCENY-THEFT            69\n",
       "                                   ... \n",
       "2023-02-11  LARCENY-THEFT           101\n",
       "2023-02-12  LARCENY-THEFT            23\n",
       "2023-02-13  LARCENY-THEFT            64\n",
       "2023-02-14  LARCENY-THEFT            52\n",
       "2023-02-15  LARCENY-THEFT            24\n",
       "Length: 1872, dtype: int64"
      ]
     },
     "execution_count": 78,
     "metadata": {},
     "output_type": "execute_result"
    }
   ],
   "source": [
    "theft_df.groupby([\"Date\", \"Offense Parent Group\"]).size()"
   ]
  },
  {
   "cell_type": "code",
   "execution_count": 5,
   "metadata": {},
   "outputs": [],
   "source": [
    "df[\"Report DateTime\"]= pd.to_datetime(df['Report DateTime'])"
   ]
  },
  {
   "cell_type": "code",
   "execution_count": 23,
   "metadata": {},
   "outputs": [],
   "source": [
    "df['Year'] = df[\"Report DateTime\"].dt.strftime(\"%Y\")"
   ]
  },
  {
   "cell_type": "code",
   "execution_count": null,
   "metadata": {},
   "outputs": [],
   "source": [
    "df['month'] = df[\"Report DateTime\"].dt.strftime(\"%Y-%m\")"
   ]
  },
  {
   "cell_type": "code",
   "execution_count": 6,
   "metadata": {},
   "outputs": [],
   "source": [
    "df['Date'] = df[\"Report DateTime\"].dt.strftime(\"%Y-%m-%d\")\n",
    "df['Time'] = df[\"Report DateTime\"].dt.strftime(\"%H:%M:%S\")"
   ]
  },
  {
   "cell_type": "code",
   "execution_count": 8,
   "metadata": {},
   "outputs": [],
   "source": [
    "compression_opts = dict(method='zip',\n",
    "                        archive_name='SPD_Crime_Data__2008-Present.csv')  \n",
    "df.to_csv('data.zip', index=False,\n",
    "          compression=compression_opts)  "
   ]
  },
  {
   "cell_type": "code",
   "execution_count": 17,
   "metadata": {},
   "outputs": [
    {
     "data": {
      "text/plain": [
       "array(['A', 'B'], dtype=object)"
      ]
     },
     "execution_count": 17,
     "metadata": {},
     "output_type": "execute_result"
    }
   ],
   "source": [
    "df[\"Group A B\"].unique()\n"
   ]
  },
  {
   "cell_type": "code",
   "execution_count": 19,
   "metadata": {},
   "outputs": [
    {
     "data": {
      "text/plain": [
       "962555"
      ]
     },
     "execution_count": 19,
     "metadata": {},
     "output_type": "execute_result"
    }
   ],
   "source": [
    "len(df[df[\"Group A B\"] == \"A\"])"
   ]
  },
  {
   "cell_type": "code",
   "execution_count": 20,
   "metadata": {},
   "outputs": [
    {
     "data": {
      "text/plain": [
       "70860"
      ]
     },
     "execution_count": 20,
     "metadata": {},
     "output_type": "execute_result"
    }
   ],
   "source": [
    "len(df[df[\"Group A B\"] == \"B\"])"
   ]
  },
  {
   "cell_type": "code",
   "execution_count": 11,
   "metadata": {},
   "outputs": [
    {
     "data": {
      "text/plain": [
       "Date        Crime Against Category\n",
       "2008-01-01  PERSON                     57\n",
       "            PROPERTY                  115\n",
       "            SOCIETY                    30\n",
       "2008-01-02  PERSON                     17\n",
       "            PROPERTY                  144\n",
       "                                     ... \n",
       "2023-02-14  PROPERTY                  122\n",
       "            SOCIETY                     7\n",
       "2023-02-15  PERSON                     29\n",
       "            PROPERTY                   66\n",
       "            SOCIETY                     6\n",
       "Length: 16606, dtype: int64"
      ]
     },
     "execution_count": 11,
     "metadata": {},
     "output_type": "execute_result"
    }
   ],
   "source": [
    "df[\"Crime_Against_Category_count\"] = df.groupby(['Date', 'Crime Against Category']).size()"
   ]
  },
  {
   "cell_type": "code",
   "execution_count": 14,
   "metadata": {},
   "outputs": [
    {
     "data": {
      "text/plain": [
       "Date        Offense Parent Group                    \n",
       "2008-01-01  ASSAULT OFFENSES                            54\n",
       "            BAD CHECKS                                   1\n",
       "            BURGLARY/BREAKING&ENTERING                  12\n",
       "            COUNTERFEITING/FORGERY                       1\n",
       "            DESTRUCTION/DAMAGE/VANDALISM OF PROPERTY    27\n",
       "                                                        ..\n",
       "2023-02-15  MOTOR VEHICLE THEFT                         21\n",
       "            ROBBERY                                      1\n",
       "            SEX OFFENSES                                 3\n",
       "            STOLEN PROPERTY OFFENSES                     1\n",
       "            TRESPASS OF REAL PROPERTY                    2\n",
       "Length: 86057, dtype: int64"
      ]
     },
     "execution_count": 14,
     "metadata": {},
     "output_type": "execute_result"
    }
   ],
   "source": [
    "df.groupby(['Date', 'Offense Parent Group']).size()"
   ]
  },
  {
   "cell_type": "code",
   "execution_count": 13,
   "metadata": {},
   "outputs": [
    {
     "data": {
      "text/plain": [
       "Date\n",
       "2008-01-01    202\n",
       "2008-01-02    190\n",
       "2008-01-03    179\n",
       "2008-01-04    183\n",
       "2008-01-05    145\n",
       "             ... \n",
       "2023-02-11    223\n",
       "2023-02-12    121\n",
       "2023-02-13    175\n",
       "2023-02-14    152\n",
       "2023-02-15    101\n",
       "Name: Offense Parent Group, Length: 5525, dtype: int64"
      ]
     },
     "execution_count": 13,
     "metadata": {},
     "output_type": "execute_result"
    }
   ],
   "source": [
    "df.groupby(['Date'])['Offense Parent Group'].size()"
   ]
  },
  {
   "cell_type": "code",
   "execution_count": null,
   "metadata": {},
   "outputs": [],
   "source": [
    "df.groupby('Date',)"
   ]
  },
  {
   "cell_type": "code",
   "execution_count": 7,
   "metadata": {},
   "outputs": [
    {
     "name": "stdout",
     "output_type": "stream",
     "text": [
      "<class 'pandas.core.frame.DataFrame'>\n",
      "RangeIndex: 1033415 entries, 0 to 1033414\n",
      "Data columns (total 20 columns):\n",
      " #   Column                  Non-Null Count    Dtype         \n",
      "---  ------                  --------------    -----         \n",
      " 0   Report Number           1033415 non-null  object        \n",
      " 1   Offense ID              1033415 non-null  int64         \n",
      " 2   Offense Start DateTime  1032212 non-null  object        \n",
      " 3   Offense End DateTime    581409 non-null   object        \n",
      " 4   Report DateTime         1033415 non-null  datetime64[ns]\n",
      " 5   Group A B               1033415 non-null  object        \n",
      " 6   City                    1033415 non-null  object        \n",
      " 7   Crime Against Category  1033415 non-null  object        \n",
      " 8   Offense Parent Group    1033415 non-null  object        \n",
      " 9   Offense                 1033415 non-null  object        \n",
      " 10  Offense Code            1033415 non-null  object        \n",
      " 11  Precinct                1033411 non-null  object        \n",
      " 12  Sector                  1033413 non-null  object        \n",
      " 13  Beat                    1033413 non-null  object        \n",
      " 14  MCPP                    1033415 non-null  object        \n",
      " 15  100 Block Address       989588 non-null   object        \n",
      " 16  Longitude               1033415 non-null  float64       \n",
      " 17  Latitude                1033415 non-null  float64       \n",
      " 18  Date                    1033415 non-null  object        \n",
      " 19  Time                    1033415 non-null  object        \n",
      "dtypes: datetime64[ns](1), float64(2), int64(1), object(16)\n",
      "memory usage: 157.7+ MB\n"
     ]
    }
   ],
   "source": [
    "df.info()"
   ]
  }
 ],
 "metadata": {
  "kernelspec": {
   "display_name": "Python 3",
   "language": "python",
   "name": "python3"
  },
  "language_info": {
   "codemirror_mode": {
    "name": "ipython",
    "version": 3
   },
   "file_extension": ".py",
   "mimetype": "text/x-python",
   "name": "python",
   "nbconvert_exporter": "python",
   "pygments_lexer": "ipython3",
   "version": "3.9.6"
  },
  "orig_nbformat": 4,
  "vscode": {
   "interpreter": {
    "hash": "31f2aee4e71d21fbe5cf8b01ff0e069b9275f58929596ceb00d14d90e3e16cd6"
   }
  }
 },
 "nbformat": 4,
 "nbformat_minor": 2
}
