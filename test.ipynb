{
 "cells": [
  {
   "cell_type": "code",
   "execution_count": 1,
   "metadata": {},
   "outputs": [],
   "source": [
    "import numpy as np\n",
    "import pandas as pd"
   ]
  },
  {
   "cell_type": "code",
   "execution_count": 2,
   "metadata": {},
   "outputs": [],
   "source": [
    "df = pd.read_csv(\"SPD_Crime_Data__2008-Present.csv\")"
   ]
  },
  {
   "cell_type": "code",
   "execution_count": 50,
   "metadata": {},
   "outputs": [],
   "source": [
    "pdf = pd.read_csv(\"Seattle_Population_Data.csv\")"
   ]
  },
  {
   "cell_type": "code",
   "execution_count": 51,
   "metadata": {},
   "outputs": [],
   "source": [
    "pdf = pdf.rename(columns={\"label\":\"Year\"})"
   ]
  },
  {
   "cell_type": "code",
   "execution_count": 33,
   "metadata": {},
   "outputs": [
    {
     "name": "stdout",
     "output_type": "stream",
     "text": [
      "<class 'pandas.core.frame.DataFrame'>\n",
      "RangeIndex: 1033415 entries, 0 to 1033414\n",
      "Data columns (total 21 columns):\n",
      " #   Column                  Non-Null Count    Dtype         \n",
      "---  ------                  --------------    -----         \n",
      " 0   Report Number           1033415 non-null  object        \n",
      " 1   Offense ID              1033415 non-null  int64         \n",
      " 2   Offense Start DateTime  1032212 non-null  object        \n",
      " 3   Offense End DateTime    581409 non-null   object        \n",
      " 4   Report DateTime         1033415 non-null  datetime64[ns]\n",
      " 5   Group A B               1033415 non-null  object        \n",
      " 6   City                    1033415 non-null  object        \n",
      " 7   Crime Against Category  1033415 non-null  object        \n",
      " 8   Offense Parent Group    1033415 non-null  object        \n",
      " 9   Offense                 1033415 non-null  object        \n",
      " 10  Offense Code            1033415 non-null  object        \n",
      " 11  Precinct                1033411 non-null  object        \n",
      " 12  Sector                  1033413 non-null  object        \n",
      " 13  Beat                    1033413 non-null  object        \n",
      " 14  MCPP                    1033415 non-null  object        \n",
      " 15  100 Block Address       989588 non-null   object        \n",
      " 16  Longitude               1033415 non-null  float64       \n",
      " 17  Latitude                1033415 non-null  float64       \n",
      " 18  Date                    1033415 non-null  object        \n",
      " 19  Time                    1033415 non-null  object        \n",
      " 20  Year                    1033415 non-null  object        \n",
      "dtypes: datetime64[ns](1), float64(2), int64(1), object(17)\n",
      "memory usage: 165.6+ MB\n"
     ]
    }
   ],
   "source": [
    "df.info()"
   ]
  },
  {
   "cell_type": "code",
   "execution_count": 34,
   "metadata": {},
   "outputs": [],
   "source": [
    "df = df.astype({'Year':'int'})"
   ]
  },
  {
   "cell_type": "code",
   "execution_count": 52,
   "metadata": {},
   "outputs": [],
   "source": [
    "combined_df = pd.merge(df, pdf, on=\"Year\", how='left')"
   ]
  },
  {
   "cell_type": "code",
   "execution_count": 53,
   "metadata": {},
   "outputs": [],
   "source": [
    "combined_df_2018 = combined_df[combined_df['Year'] >= 2018]  \n",
    "# get this out"
   ]
  },
  {
   "cell_type": "code",
   "execution_count": 54,
   "metadata": {},
   "outputs": [],
   "source": [
    "property_data = combined_df_2018[combined_df_2018['Crime Against Category'] == \"PROPERTY\"]"
   ]
  },
  {
   "cell_type": "code",
   "execution_count": 55,
   "metadata": {},
   "outputs": [
    {
     "data": {
      "text/html": [
       "<div>\n",
       "<style scoped>\n",
       "    .dataframe tbody tr th:only-of-type {\n",
       "        vertical-align: middle;\n",
       "    }\n",
       "\n",
       "    .dataframe tbody tr th {\n",
       "        vertical-align: top;\n",
       "    }\n",
       "\n",
       "    .dataframe thead th {\n",
       "        text-align: right;\n",
       "    }\n",
       "</style>\n",
       "<table border=\"1\" class=\"dataframe\">\n",
       "  <thead>\n",
       "    <tr style=\"text-align: right;\">\n",
       "      <th></th>\n",
       "      <th>Report Number</th>\n",
       "      <th>Offense ID</th>\n",
       "      <th>Offense Start DateTime</th>\n",
       "      <th>Offense End DateTime</th>\n",
       "      <th>Report DateTime</th>\n",
       "      <th>Group A B</th>\n",
       "      <th>City</th>\n",
       "      <th>Crime Against Category</th>\n",
       "      <th>Offense Parent Group</th>\n",
       "      <th>Offense</th>\n",
       "      <th>...</th>\n",
       "      <th>Longitude</th>\n",
       "      <th>Latitude</th>\n",
       "      <th>Date</th>\n",
       "      <th>Time</th>\n",
       "      <th>Year</th>\n",
       "      <th>Born in USA</th>\n",
       "      <th>Citizen by Naturalization</th>\n",
       "      <th>Not a Citizen</th>\n",
       "      <th>Born Abroad</th>\n",
       "      <th>total</th>\n",
       "    </tr>\n",
       "  </thead>\n",
       "  <tbody>\n",
       "    <tr>\n",
       "      <th>1</th>\n",
       "      <td>2020-044452</td>\n",
       "      <td>12605598696</td>\n",
       "      <td>02/03/2020 08:00:00 AM</td>\n",
       "      <td>02/04/2020 08:00:00 AM</td>\n",
       "      <td>2020-02-05 10:06:28</td>\n",
       "      <td>A</td>\n",
       "      <td>Seattle</td>\n",
       "      <td>PROPERTY</td>\n",
       "      <td>LARCENY-THEFT</td>\n",
       "      <td>Theft of Motor Vehicle Parts or Accessories</td>\n",
       "      <td>...</td>\n",
       "      <td>-122.323399</td>\n",
       "      <td>47.675118</td>\n",
       "      <td>2020-02-05</td>\n",
       "      <td>10:06:28</td>\n",
       "      <td>2020</td>\n",
       "      <td>NaN</td>\n",
       "      <td>NaN</td>\n",
       "      <td>NaN</td>\n",
       "      <td>NaN</td>\n",
       "      <td>NaN</td>\n",
       "    </tr>\n",
       "    <tr>\n",
       "      <th>2</th>\n",
       "      <td>2020-044465</td>\n",
       "      <td>12605567653</td>\n",
       "      <td>02/02/2020 08:30:00 PM</td>\n",
       "      <td>02/02/2020 09:30:00 PM</td>\n",
       "      <td>2020-02-05 09:39:33</td>\n",
       "      <td>A</td>\n",
       "      <td>Seattle</td>\n",
       "      <td>PROPERTY</td>\n",
       "      <td>ROBBERY</td>\n",
       "      <td>Robbery</td>\n",
       "      <td>...</td>\n",
       "      <td>-122.299552</td>\n",
       "      <td>47.666384</td>\n",
       "      <td>2020-02-05</td>\n",
       "      <td>09:39:33</td>\n",
       "      <td>2020</td>\n",
       "      <td>NaN</td>\n",
       "      <td>NaN</td>\n",
       "      <td>NaN</td>\n",
       "      <td>NaN</td>\n",
       "      <td>NaN</td>\n",
       "    </tr>\n",
       "    <tr>\n",
       "      <th>3</th>\n",
       "      <td>2020-044225</td>\n",
       "      <td>12605174036</td>\n",
       "      <td>02/05/2020 01:17:00 AM</td>\n",
       "      <td>02/05/2020 02:21:00 AM</td>\n",
       "      <td>2020-02-05 03:30:55</td>\n",
       "      <td>A</td>\n",
       "      <td>Seattle</td>\n",
       "      <td>PROPERTY</td>\n",
       "      <td>DESTRUCTION/DAMAGE/VANDALISM OF PROPERTY</td>\n",
       "      <td>Destruction/Damage/Vandalism of Property</td>\n",
       "      <td>...</td>\n",
       "      <td>-122.384865</td>\n",
       "      <td>47.642927</td>\n",
       "      <td>2020-02-05</td>\n",
       "      <td>03:30:55</td>\n",
       "      <td>2020</td>\n",
       "      <td>NaN</td>\n",
       "      <td>NaN</td>\n",
       "      <td>NaN</td>\n",
       "      <td>NaN</td>\n",
       "      <td>NaN</td>\n",
       "    </tr>\n",
       "    <tr>\n",
       "      <th>5</th>\n",
       "      <td>2020-044142</td>\n",
       "      <td>12605077150</td>\n",
       "      <td>02/04/2020 10:59:00 PM</td>\n",
       "      <td>NaN</td>\n",
       "      <td>2020-02-05 00:45:08</td>\n",
       "      <td>A</td>\n",
       "      <td>Seattle</td>\n",
       "      <td>PROPERTY</td>\n",
       "      <td>LARCENY-THEFT</td>\n",
       "      <td>Shoplifting</td>\n",
       "      <td>...</td>\n",
       "      <td>-122.338450</td>\n",
       "      <td>47.608789</td>\n",
       "      <td>2020-02-05</td>\n",
       "      <td>00:45:08</td>\n",
       "      <td>2020</td>\n",
       "      <td>NaN</td>\n",
       "      <td>NaN</td>\n",
       "      <td>NaN</td>\n",
       "      <td>NaN</td>\n",
       "      <td>NaN</td>\n",
       "    </tr>\n",
       "    <tr>\n",
       "      <th>6</th>\n",
       "      <td>2020-044104</td>\n",
       "      <td>12605029468</td>\n",
       "      <td>02/04/2020 08:30:00 PM</td>\n",
       "      <td>02/04/2020 08:45:00 PM</td>\n",
       "      <td>2020-02-04 23:31:52</td>\n",
       "      <td>A</td>\n",
       "      <td>Seattle</td>\n",
       "      <td>PROPERTY</td>\n",
       "      <td>DESTRUCTION/DAMAGE/VANDALISM OF PROPERTY</td>\n",
       "      <td>Destruction/Damage/Vandalism of Property</td>\n",
       "      <td>...</td>\n",
       "      <td>-122.355309</td>\n",
       "      <td>47.680527</td>\n",
       "      <td>2020-02-04</td>\n",
       "      <td>23:31:52</td>\n",
       "      <td>2020</td>\n",
       "      <td>NaN</td>\n",
       "      <td>NaN</td>\n",
       "      <td>NaN</td>\n",
       "      <td>NaN</td>\n",
       "      <td>NaN</td>\n",
       "    </tr>\n",
       "    <tr>\n",
       "      <th>...</th>\n",
       "      <td>...</td>\n",
       "      <td>...</td>\n",
       "      <td>...</td>\n",
       "      <td>...</td>\n",
       "      <td>...</td>\n",
       "      <td>...</td>\n",
       "      <td>...</td>\n",
       "      <td>...</td>\n",
       "      <td>...</td>\n",
       "      <td>...</td>\n",
       "      <td>...</td>\n",
       "      <td>...</td>\n",
       "      <td>...</td>\n",
       "      <td>...</td>\n",
       "      <td>...</td>\n",
       "      <td>...</td>\n",
       "      <td>...</td>\n",
       "      <td>...</td>\n",
       "      <td>...</td>\n",
       "      <td>...</td>\n",
       "      <td>...</td>\n",
       "    </tr>\n",
       "    <tr>\n",
       "      <th>1033391</th>\n",
       "      <td>2018-041786</td>\n",
       "      <td>7659514059</td>\n",
       "      <td>02/03/2018 10:00:00 AM</td>\n",
       "      <td>02/03/2018 11:15:00 AM</td>\n",
       "      <td>2018-02-03 13:26:00</td>\n",
       "      <td>A</td>\n",
       "      <td>Seattle</td>\n",
       "      <td>PROPERTY</td>\n",
       "      <td>LARCENY-THEFT</td>\n",
       "      <td>Theft From Motor Vehicle</td>\n",
       "      <td>...</td>\n",
       "      <td>-122.376553</td>\n",
       "      <td>47.540130</td>\n",
       "      <td>2018-02-03</td>\n",
       "      <td>13:26:00</td>\n",
       "      <td>2018</td>\n",
       "      <td>NaN</td>\n",
       "      <td>NaN</td>\n",
       "      <td>NaN</td>\n",
       "      <td>NaN</td>\n",
       "      <td>NaN</td>\n",
       "    </tr>\n",
       "    <tr>\n",
       "      <th>1033392</th>\n",
       "      <td>2018-040735</td>\n",
       "      <td>7685319198</td>\n",
       "      <td>02/02/2018 09:30:00 AM</td>\n",
       "      <td>02/02/2018 05:30:00 PM</td>\n",
       "      <td>2018-02-02 20:38:00</td>\n",
       "      <td>A</td>\n",
       "      <td>Seattle</td>\n",
       "      <td>PROPERTY</td>\n",
       "      <td>LARCENY-THEFT</td>\n",
       "      <td>Theft From Motor Vehicle</td>\n",
       "      <td>...</td>\n",
       "      <td>-122.340403</td>\n",
       "      <td>47.623217</td>\n",
       "      <td>2018-02-02</td>\n",
       "      <td>20:38:00</td>\n",
       "      <td>2018</td>\n",
       "      <td>NaN</td>\n",
       "      <td>NaN</td>\n",
       "      <td>NaN</td>\n",
       "      <td>NaN</td>\n",
       "      <td>NaN</td>\n",
       "    </tr>\n",
       "    <tr>\n",
       "      <th>1033393</th>\n",
       "      <td>2018-039974</td>\n",
       "      <td>7696866294</td>\n",
       "      <td>02/01/2018 07:00:00 PM</td>\n",
       "      <td>02/02/2018 05:45:00 AM</td>\n",
       "      <td>2018-02-02 07:52:00</td>\n",
       "      <td>A</td>\n",
       "      <td>Seattle</td>\n",
       "      <td>PROPERTY</td>\n",
       "      <td>LARCENY-THEFT</td>\n",
       "      <td>Theft From Motor Vehicle</td>\n",
       "      <td>...</td>\n",
       "      <td>-122.322450</td>\n",
       "      <td>47.581890</td>\n",
       "      <td>2018-02-02</td>\n",
       "      <td>07:52:00</td>\n",
       "      <td>2018</td>\n",
       "      <td>NaN</td>\n",
       "      <td>NaN</td>\n",
       "      <td>NaN</td>\n",
       "      <td>NaN</td>\n",
       "      <td>NaN</td>\n",
       "    </tr>\n",
       "    <tr>\n",
       "      <th>1033394</th>\n",
       "      <td>2018-039974</td>\n",
       "      <td>7696866297</td>\n",
       "      <td>02/01/2018 07:00:00 PM</td>\n",
       "      <td>02/02/2018 05:45:00 AM</td>\n",
       "      <td>2018-02-02 07:52:00</td>\n",
       "      <td>A</td>\n",
       "      <td>Seattle</td>\n",
       "      <td>PROPERTY</td>\n",
       "      <td>DESTRUCTION/DAMAGE/VANDALISM OF PROPERTY</td>\n",
       "      <td>Destruction/Damage/Vandalism of Property</td>\n",
       "      <td>...</td>\n",
       "      <td>-122.322450</td>\n",
       "      <td>47.581890</td>\n",
       "      <td>2018-02-02</td>\n",
       "      <td>07:52:00</td>\n",
       "      <td>2018</td>\n",
       "      <td>NaN</td>\n",
       "      <td>NaN</td>\n",
       "      <td>NaN</td>\n",
       "      <td>NaN</td>\n",
       "      <td>NaN</td>\n",
       "    </tr>\n",
       "    <tr>\n",
       "      <th>1033395</th>\n",
       "      <td>2018-039677</td>\n",
       "      <td>7643159251</td>\n",
       "      <td>02/01/2018 09:30:00 AM</td>\n",
       "      <td>02/01/2018 10:30:00 PM</td>\n",
       "      <td>2018-02-01 22:55:00</td>\n",
       "      <td>A</td>\n",
       "      <td>Seattle</td>\n",
       "      <td>PROPERTY</td>\n",
       "      <td>BURGLARY/BREAKING&amp;ENTERING</td>\n",
       "      <td>Burglary/Breaking &amp; Entering</td>\n",
       "      <td>...</td>\n",
       "      <td>-122.328885</td>\n",
       "      <td>47.727507</td>\n",
       "      <td>2018-02-01</td>\n",
       "      <td>22:55:00</td>\n",
       "      <td>2018</td>\n",
       "      <td>NaN</td>\n",
       "      <td>NaN</td>\n",
       "      <td>NaN</td>\n",
       "      <td>NaN</td>\n",
       "      <td>NaN</td>\n",
       "    </tr>\n",
       "  </tbody>\n",
       "</table>\n",
       "<p>283305 rows × 26 columns</p>\n",
       "</div>"
      ],
      "text/plain": [
       "        Report Number   Offense ID  Offense Start DateTime  \\\n",
       "1         2020-044452  12605598696  02/03/2020 08:00:00 AM   \n",
       "2         2020-044465  12605567653  02/02/2020 08:30:00 PM   \n",
       "3         2020-044225  12605174036  02/05/2020 01:17:00 AM   \n",
       "5         2020-044142  12605077150  02/04/2020 10:59:00 PM   \n",
       "6         2020-044104  12605029468  02/04/2020 08:30:00 PM   \n",
       "...               ...          ...                     ...   \n",
       "1033391   2018-041786   7659514059  02/03/2018 10:00:00 AM   \n",
       "1033392   2018-040735   7685319198  02/02/2018 09:30:00 AM   \n",
       "1033393   2018-039974   7696866294  02/01/2018 07:00:00 PM   \n",
       "1033394   2018-039974   7696866297  02/01/2018 07:00:00 PM   \n",
       "1033395   2018-039677   7643159251  02/01/2018 09:30:00 AM   \n",
       "\n",
       "           Offense End DateTime     Report DateTime Group A B     City  \\\n",
       "1        02/04/2020 08:00:00 AM 2020-02-05 10:06:28         A  Seattle   \n",
       "2        02/02/2020 09:30:00 PM 2020-02-05 09:39:33         A  Seattle   \n",
       "3        02/05/2020 02:21:00 AM 2020-02-05 03:30:55         A  Seattle   \n",
       "5                           NaN 2020-02-05 00:45:08         A  Seattle   \n",
       "6        02/04/2020 08:45:00 PM 2020-02-04 23:31:52         A  Seattle   \n",
       "...                         ...                 ...       ...      ...   \n",
       "1033391  02/03/2018 11:15:00 AM 2018-02-03 13:26:00         A  Seattle   \n",
       "1033392  02/02/2018 05:30:00 PM 2018-02-02 20:38:00         A  Seattle   \n",
       "1033393  02/02/2018 05:45:00 AM 2018-02-02 07:52:00         A  Seattle   \n",
       "1033394  02/02/2018 05:45:00 AM 2018-02-02 07:52:00         A  Seattle   \n",
       "1033395  02/01/2018 10:30:00 PM 2018-02-01 22:55:00         A  Seattle   \n",
       "\n",
       "        Crime Against Category                      Offense Parent Group  \\\n",
       "1                     PROPERTY                             LARCENY-THEFT   \n",
       "2                     PROPERTY                                   ROBBERY   \n",
       "3                     PROPERTY  DESTRUCTION/DAMAGE/VANDALISM OF PROPERTY   \n",
       "5                     PROPERTY                             LARCENY-THEFT   \n",
       "6                     PROPERTY  DESTRUCTION/DAMAGE/VANDALISM OF PROPERTY   \n",
       "...                        ...                                       ...   \n",
       "1033391               PROPERTY                             LARCENY-THEFT   \n",
       "1033392               PROPERTY                             LARCENY-THEFT   \n",
       "1033393               PROPERTY                             LARCENY-THEFT   \n",
       "1033394               PROPERTY  DESTRUCTION/DAMAGE/VANDALISM OF PROPERTY   \n",
       "1033395               PROPERTY                BURGLARY/BREAKING&ENTERING   \n",
       "\n",
       "                                             Offense  ...   Longitude  \\\n",
       "1        Theft of Motor Vehicle Parts or Accessories  ... -122.323399   \n",
       "2                                            Robbery  ... -122.299552   \n",
       "3           Destruction/Damage/Vandalism of Property  ... -122.384865   \n",
       "5                                        Shoplifting  ... -122.338450   \n",
       "6           Destruction/Damage/Vandalism of Property  ... -122.355309   \n",
       "...                                              ...  ...         ...   \n",
       "1033391                     Theft From Motor Vehicle  ... -122.376553   \n",
       "1033392                     Theft From Motor Vehicle  ... -122.340403   \n",
       "1033393                     Theft From Motor Vehicle  ... -122.322450   \n",
       "1033394     Destruction/Damage/Vandalism of Property  ... -122.322450   \n",
       "1033395                 Burglary/Breaking & Entering  ... -122.328885   \n",
       "\n",
       "          Latitude        Date      Time  Year Born in USA  \\\n",
       "1        47.675118  2020-02-05  10:06:28  2020         NaN   \n",
       "2        47.666384  2020-02-05  09:39:33  2020         NaN   \n",
       "3        47.642927  2020-02-05  03:30:55  2020         NaN   \n",
       "5        47.608789  2020-02-05  00:45:08  2020         NaN   \n",
       "6        47.680527  2020-02-04  23:31:52  2020         NaN   \n",
       "...            ...         ...       ...   ...         ...   \n",
       "1033391  47.540130  2018-02-03  13:26:00  2018         NaN   \n",
       "1033392  47.623217  2018-02-02  20:38:00  2018         NaN   \n",
       "1033393  47.581890  2018-02-02  07:52:00  2018         NaN   \n",
       "1033394  47.581890  2018-02-02  07:52:00  2018         NaN   \n",
       "1033395  47.727507  2018-02-01  22:55:00  2018         NaN   \n",
       "\n",
       "         Citizen by Naturalization  Not a Citizen Born Abroad total  \n",
       "1                              NaN            NaN         NaN   NaN  \n",
       "2                              NaN            NaN         NaN   NaN  \n",
       "3                              NaN            NaN         NaN   NaN  \n",
       "5                              NaN            NaN         NaN   NaN  \n",
       "6                              NaN            NaN         NaN   NaN  \n",
       "...                            ...            ...         ...   ...  \n",
       "1033391                        NaN            NaN         NaN   NaN  \n",
       "1033392                        NaN            NaN         NaN   NaN  \n",
       "1033393                        NaN            NaN         NaN   NaN  \n",
       "1033394                        NaN            NaN         NaN   NaN  \n",
       "1033395                        NaN            NaN         NaN   NaN  \n",
       "\n",
       "[283305 rows x 26 columns]"
      ]
     },
     "execution_count": 55,
     "metadata": {},
     "output_type": "execute_result"
    }
   ],
   "source": [
    "property_data"
   ]
  },
  {
   "cell_type": "code",
   "execution_count": 5,
   "metadata": {},
   "outputs": [],
   "source": [
    "df[\"Report DateTime\"]= pd.to_datetime(df['Report DateTime'])"
   ]
  },
  {
   "cell_type": "code",
   "execution_count": 23,
   "metadata": {},
   "outputs": [],
   "source": [
    "df['Year'] = df[\"Report DateTime\"].dt.strftime(\"%Y\")"
   ]
  },
  {
   "cell_type": "code",
   "execution_count": 6,
   "metadata": {},
   "outputs": [],
   "source": [
    "df['Date'] = df[\"Report DateTime\"].dt.strftime(\"%Y-%m-%d\")\n",
    "df['Time'] = df[\"Report DateTime\"].dt.strftime(\"%H:%M:%S\")"
   ]
  },
  {
   "cell_type": "code",
   "execution_count": 8,
   "metadata": {},
   "outputs": [],
   "source": [
    "compression_opts = dict(method='zip',\n",
    "                        archive_name='SPD_Crime_Data__2008-Present.csv')  \n",
    "df.to_csv('data.zip', index=False,\n",
    "          compression=compression_opts)  "
   ]
  },
  {
   "cell_type": "code",
   "execution_count": 17,
   "metadata": {},
   "outputs": [
    {
     "data": {
      "text/plain": [
       "array(['A', 'B'], dtype=object)"
      ]
     },
     "execution_count": 17,
     "metadata": {},
     "output_type": "execute_result"
    }
   ],
   "source": [
    "df[\"Group A B\"].unique()\n"
   ]
  },
  {
   "cell_type": "code",
   "execution_count": 19,
   "metadata": {},
   "outputs": [
    {
     "data": {
      "text/plain": [
       "962555"
      ]
     },
     "execution_count": 19,
     "metadata": {},
     "output_type": "execute_result"
    }
   ],
   "source": [
    "len(df[df[\"Group A B\"] == \"A\"])"
   ]
  },
  {
   "cell_type": "code",
   "execution_count": 20,
   "metadata": {},
   "outputs": [
    {
     "data": {
      "text/plain": [
       "70860"
      ]
     },
     "execution_count": 20,
     "metadata": {},
     "output_type": "execute_result"
    }
   ],
   "source": [
    "len(df[df[\"Group A B\"] == \"B\"])"
   ]
  },
  {
   "cell_type": "code",
   "execution_count": 11,
   "metadata": {},
   "outputs": [
    {
     "data": {
      "text/plain": [
       "Date        Crime Against Category\n",
       "2008-01-01  PERSON                     57\n",
       "            PROPERTY                  115\n",
       "            SOCIETY                    30\n",
       "2008-01-02  PERSON                     17\n",
       "            PROPERTY                  144\n",
       "                                     ... \n",
       "2023-02-14  PROPERTY                  122\n",
       "            SOCIETY                     7\n",
       "2023-02-15  PERSON                     29\n",
       "            PROPERTY                   66\n",
       "            SOCIETY                     6\n",
       "Length: 16606, dtype: int64"
      ]
     },
     "execution_count": 11,
     "metadata": {},
     "output_type": "execute_result"
    }
   ],
   "source": [
    "df[\"Crime_Against_Category_count\"] = df.groupby(['Date', 'Crime Against Category']).size()"
   ]
  },
  {
   "cell_type": "code",
   "execution_count": 14,
   "metadata": {},
   "outputs": [
    {
     "data": {
      "text/plain": [
       "Date        Offense Parent Group                    \n",
       "2008-01-01  ASSAULT OFFENSES                            54\n",
       "            BAD CHECKS                                   1\n",
       "            BURGLARY/BREAKING&ENTERING                  12\n",
       "            COUNTERFEITING/FORGERY                       1\n",
       "            DESTRUCTION/DAMAGE/VANDALISM OF PROPERTY    27\n",
       "                                                        ..\n",
       "2023-02-15  MOTOR VEHICLE THEFT                         21\n",
       "            ROBBERY                                      1\n",
       "            SEX OFFENSES                                 3\n",
       "            STOLEN PROPERTY OFFENSES                     1\n",
       "            TRESPASS OF REAL PROPERTY                    2\n",
       "Length: 86057, dtype: int64"
      ]
     },
     "execution_count": 14,
     "metadata": {},
     "output_type": "execute_result"
    }
   ],
   "source": [
    "df.groupby(['Date', 'Offense Parent Group']).size()"
   ]
  },
  {
   "cell_type": "code",
   "execution_count": 13,
   "metadata": {},
   "outputs": [
    {
     "data": {
      "text/plain": [
       "Date\n",
       "2008-01-01    202\n",
       "2008-01-02    190\n",
       "2008-01-03    179\n",
       "2008-01-04    183\n",
       "2008-01-05    145\n",
       "             ... \n",
       "2023-02-11    223\n",
       "2023-02-12    121\n",
       "2023-02-13    175\n",
       "2023-02-14    152\n",
       "2023-02-15    101\n",
       "Name: Offense Parent Group, Length: 5525, dtype: int64"
      ]
     },
     "execution_count": 13,
     "metadata": {},
     "output_type": "execute_result"
    }
   ],
   "source": [
    "df.groupby(['Date'])['Offense Parent Group'].size()"
   ]
  },
  {
   "cell_type": "code",
   "execution_count": null,
   "metadata": {},
   "outputs": [],
   "source": [
    "df.groupby('Date',)"
   ]
  },
  {
   "cell_type": "code",
   "execution_count": 7,
   "metadata": {},
   "outputs": [
    {
     "name": "stdout",
     "output_type": "stream",
     "text": [
      "<class 'pandas.core.frame.DataFrame'>\n",
      "RangeIndex: 1033415 entries, 0 to 1033414\n",
      "Data columns (total 20 columns):\n",
      " #   Column                  Non-Null Count    Dtype         \n",
      "---  ------                  --------------    -----         \n",
      " 0   Report Number           1033415 non-null  object        \n",
      " 1   Offense ID              1033415 non-null  int64         \n",
      " 2   Offense Start DateTime  1032212 non-null  object        \n",
      " 3   Offense End DateTime    581409 non-null   object        \n",
      " 4   Report DateTime         1033415 non-null  datetime64[ns]\n",
      " 5   Group A B               1033415 non-null  object        \n",
      " 6   City                    1033415 non-null  object        \n",
      " 7   Crime Against Category  1033415 non-null  object        \n",
      " 8   Offense Parent Group    1033415 non-null  object        \n",
      " 9   Offense                 1033415 non-null  object        \n",
      " 10  Offense Code            1033415 non-null  object        \n",
      " 11  Precinct                1033411 non-null  object        \n",
      " 12  Sector                  1033413 non-null  object        \n",
      " 13  Beat                    1033413 non-null  object        \n",
      " 14  MCPP                    1033415 non-null  object        \n",
      " 15  100 Block Address       989588 non-null   object        \n",
      " 16  Longitude               1033415 non-null  float64       \n",
      " 17  Latitude                1033415 non-null  float64       \n",
      " 18  Date                    1033415 non-null  object        \n",
      " 19  Time                    1033415 non-null  object        \n",
      "dtypes: datetime64[ns](1), float64(2), int64(1), object(16)\n",
      "memory usage: 157.7+ MB\n"
     ]
    }
   ],
   "source": [
    "df.info()"
   ]
  }
 ],
 "metadata": {
  "kernelspec": {
   "display_name": "Python 3",
   "language": "python",
   "name": "python3"
  },
  "language_info": {
   "codemirror_mode": {
    "name": "ipython",
    "version": 3
   },
   "file_extension": ".py",
   "mimetype": "text/x-python",
   "name": "python",
   "nbconvert_exporter": "python",
   "pygments_lexer": "ipython3",
   "version": "3.9.6"
  },
  "orig_nbformat": 4,
  "vscode": {
   "interpreter": {
    "hash": "31f2aee4e71d21fbe5cf8b01ff0e069b9275f58929596ceb00d14d90e3e16cd6"
   }
  }
 },
 "nbformat": 4,
 "nbformat_minor": 2
}
