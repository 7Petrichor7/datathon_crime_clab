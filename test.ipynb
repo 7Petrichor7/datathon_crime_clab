{
 "cells": [
  {
   "cell_type": "code",
   "execution_count": 1,
   "metadata": {},
   "outputs": [],
   "source": [
    "import numpy as np\n",
    "import pandas as pd"
   ]
  },
  {
   "cell_type": "code",
   "execution_count": 2,
   "metadata": {},
   "outputs": [],
   "source": [
    "df = pd.read_csv(\"SPD_Crime_Data__2008-Present.csv\")"
   ]
  },
  {
   "cell_type": "code",
   "execution_count": 3,
   "metadata": {},
   "outputs": [],
   "source": [
    "df.insert(6, 'City', 'Seattle')"
   ]
  },
  {
   "cell_type": "code",
   "execution_count": 5,
   "metadata": {},
   "outputs": [],
   "source": [
    "df[\"Report DateTime\"]= pd.to_datetime(df['Report DateTime'])"
   ]
  },
  {
   "cell_type": "code",
   "execution_count": 6,
   "metadata": {},
   "outputs": [],
   "source": [
    "df['Date'] = df[\"Report DateTime\"].dt.strftime(\"%Y-%m-%d\")\n",
    "df['Time'] = df[\"Report DateTime\"].dt.strftime(\"%H:%M:%S\")"
   ]
  },
  {
   "cell_type": "code",
   "execution_count": null,
   "metadata": {},
   "outputs": [],
   "source": [
    "df.groupby(['Date', 'col2'])"
   ]
  },
  {
   "cell_type": "code",
   "execution_count": null,
   "metadata": {},
   "outputs": [],
   "source": [
    "df.groupby('Date',)"
   ]
  },
  {
   "cell_type": "code",
   "execution_count": 7,
   "metadata": {},
   "outputs": [
    {
     "name": "stdout",
     "output_type": "stream",
     "text": [
      "<class 'pandas.core.frame.DataFrame'>\n",
      "RangeIndex: 1033415 entries, 0 to 1033414\n",
      "Data columns (total 20 columns):\n",
      " #   Column                  Non-Null Count    Dtype         \n",
      "---  ------                  --------------    -----         \n",
      " 0   Report Number           1033415 non-null  object        \n",
      " 1   Offense ID              1033415 non-null  int64         \n",
      " 2   Offense Start DateTime  1032212 non-null  object        \n",
      " 3   Offense End DateTime    581409 non-null   object        \n",
      " 4   Report DateTime         1033415 non-null  datetime64[ns]\n",
      " 5   Group A B               1033415 non-null  object        \n",
      " 6   City                    1033415 non-null  object        \n",
      " 7   Crime Against Category  1033415 non-null  object        \n",
      " 8   Offense Parent Group    1033415 non-null  object        \n",
      " 9   Offense                 1033415 non-null  object        \n",
      " 10  Offense Code            1033415 non-null  object        \n",
      " 11  Precinct                1033411 non-null  object        \n",
      " 12  Sector                  1033413 non-null  object        \n",
      " 13  Beat                    1033413 non-null  object        \n",
      " 14  MCPP                    1033415 non-null  object        \n",
      " 15  100 Block Address       989588 non-null   object        \n",
      " 16  Longitude               1033415 non-null  float64       \n",
      " 17  Latitude                1033415 non-null  float64       \n",
      " 18  Date                    1033415 non-null  object        \n",
      " 19  Time                    1033415 non-null  object        \n",
      "dtypes: datetime64[ns](1), float64(2), int64(1), object(16)\n",
      "memory usage: 157.7+ MB\n"
     ]
    }
   ],
   "source": [
    "df.info()"
   ]
  }
 ],
 "metadata": {
  "kernelspec": {
   "display_name": "Python 3",
   "language": "python",
   "name": "python3"
  },
  "language_info": {
   "codemirror_mode": {
    "name": "ipython",
    "version": 3
   },
   "file_extension": ".py",
   "mimetype": "text/x-python",
   "name": "python",
   "nbconvert_exporter": "python",
   "pygments_lexer": "ipython3",
   "version": "3.9.6"
  },
  "orig_nbformat": 4,
  "vscode": {
   "interpreter": {
    "hash": "31f2aee4e71d21fbe5cf8b01ff0e069b9275f58929596ceb00d14d90e3e16cd6"
   }
  }
 },
 "nbformat": 4,
 "nbformat_minor": 2
}
